{
 "cells": [
  {
   "cell_type": "code",
   "execution_count": 40,
   "metadata": {},
   "outputs": [],
   "source": [
    "import pandas as pd\n",
    "import numpy as np\n",
    "crimes_by_state = pd.read_excel('./data/Table_3_Crime_in_the_United_States_by_State_2016.xls', skiprows=3, skipfooter=3)\n",
    "\n",
    "crimes_by_state = crimes_by_state.iloc[:-5,:]\n",
    "\n",
    "crimes_by_state.head(20)\n",
    "states = []\n",
    "for state in crimes_by_state['State']:\n",
    "    # check if state is not NA\n",
    "    if state == state:\n",
    "        states.append(state)\n",
    "\n",
    "data_by_state = []\n",
    "# keep only the rows where the column 'Area' has value 'State Total\n",
    "for i in range(len(crimes_by_state)):\n",
    "    if crimes_by_state['Area'][i] == 'State Total':\n",
    "        data_by_state.append(crimes_by_state.iloc[i])\n",
    "\n",
    "# for each row, drop the column 'State' and unn\n",
    "for i in range(len(data_by_state)):\n",
    "    data_by_state[i] = data_by_state[i].drop(['State', 'Unnamed: 2','Area','Unnamed: 14','Unnamed: 15'])\n",
    "\n",
    "# append state name to each row\n",
    "for i in range(len(data_by_state)):\n",
    "    data_by_state[i]['State'] = states[i]\n",
    "\n",
    "# concatenate all the rows into a single dataframe\n",
    "\n",
    "crime_data_by_state = pd.DataFrame(data_by_state)\n",
    "# drop index column\n",
    "crime_data_by_state = crime_data_by_state.reset_index(drop=True)\n",
    "\n",
    "headers = ['Population','Violent Crime','Murder and Manslaughter','Rape (Revised Defintion)','Rape (Legacy Definition)','Robbery','Aggravated Assult', 'Property Crime','Burglary', 'Larceny and Theft' ,'Motor Vehicle Theft','State']\n",
    "\n",
    "crime_data_by_state.columns = headers\n",
    "\n",
    "crime_data_by_state.head(20)\n",
    "crime_data_by_state.to_csv('./data/crime_data_by_state.csv')\n",
    "\n",
    "\n"
   ]
  },
  {
   "cell_type": "markdown",
   "metadata": {},
   "source": [
    "### Arrests"
   ]
  },
  {
   "cell_type": "code",
   "execution_count": 3,
   "metadata": {},
   "outputs": [],
   "source": [
    "arrests_by_state = pd.read_excel(\"./data/Table_22_Arrest_by_State_2016.xls\",skiprows=3)\n",
    "arrests_by_state = arrests_by_state.iloc[:-8,:]\n",
    "states = []\n",
    "\n",
    "for state in arrests_by_state['State']:\n",
    "    # check if state is not NA\n",
    "    if state == state:\n",
    "        states.append(state)\n",
    "arrests_data_by_states=[]\n",
    "for i in range(len(arrests_by_state)):\n",
    "    if arrests_by_state['Unnamed: 1'][i] == 'Total all ages':\n",
    "        arrests_data_by_states.append(arrests_by_state.iloc[i,:9])\n",
    "\n",
    "arrests_data_by_states = pd.DataFrame(arrests_data_by_states)\n",
    "arrests_data_by_states.drop(['State', 'Unnamed: 1'], axis = 1, inplace = True) \n",
    "arrests_data_by_states['State'] = states\n",
    "arrests_data_by_states = arrests_data_by_states.reset_index(drop=True)\n",
    "headers = ['Total Arrests','Violent Crime','property Crime','Murder and Manslaughter','Rape','Robbery','Aggravated Assault','State']\n",
    "arrests_data_by_states.columns = headers\n",
    "arrests_data_by_states.head(20)\n",
    "\n",
    "arrests_data_by_states.to_csv('data/arrests_data_by_state.csv')"
   ]
  },
  {
   "cell_type": "markdown",
   "metadata": {},
   "source": [
    "### Officers"
   ]
  },
  {
   "cell_type": "code",
   "execution_count": 4,
   "metadata": {},
   "outputs": [],
   "source": [
    "officers_by_state = pd.read_excel('data/Table_26_Full_time_Law_Enforcement_Employees_by_State_by_Cities_2016.xls',skiprows=3)\n",
    "officers_by_state = officers_by_state.iloc[:-1,:]\n",
    "\n",
    "states = []\n",
    "\n",
    "for state in officers_by_state['State']:\n",
    "    # check if state is not NA\n",
    "    if state == state:\n",
    "        states.append(state)\n",
    "\n",
    "data = []\n",
    "\n",
    "temp_data = {'Population':0,'Total Officers':0}\n",
    "for i in range(len(officers_by_state)):\n",
    "    if not pd.isna(officers_by_state.loc[i,'State']):\n",
    "        temp_data['State'] = officers_by_state.loc[i,'State']\n",
    "        data.append(temp_data)\n",
    "        temp_data = {'Population':0,'Total Officers':0,'State':\"\"}\n",
    "    else:\n",
    "        temp_data['Population']+=officers_by_state.loc[i,'Population']\n",
    "        temp_data['Total Officers'] += officers_by_state.loc[i,'Total law\\nenforcement\\nemployees']\n",
    "\n",
    "data.append(temp_data)\n",
    "data= data[1:]\n",
    "# convert data to dataframe\n",
    "officers_data_by_state = pd.DataFrame(data)\n",
    "officers_data_by_state.head(20)\n",
    "officers_data_by_state.to_csv('data/officers_data_by_state.csv')"
   ]
  },
  {
   "cell_type": "markdown",
   "metadata": {},
   "source": [
    "### crime trends over time"
   ]
  },
  {
   "cell_type": "code",
   "execution_count": 5,
   "metadata": {},
   "outputs": [
    {
     "data": {
      "text/html": [
       "<div>\n",
       "<style scoped>\n",
       "    .dataframe tbody tr th:only-of-type {\n",
       "        vertical-align: middle;\n",
       "    }\n",
       "\n",
       "    .dataframe tbody tr th {\n",
       "        vertical-align: top;\n",
       "    }\n",
       "\n",
       "    .dataframe thead th {\n",
       "        text-align: right;\n",
       "    }\n",
       "</style>\n",
       "<table border=\"1\" class=\"dataframe\">\n",
       "  <thead>\n",
       "    <tr style=\"text-align: right;\">\n",
       "      <th></th>\n",
       "      <th>Year</th>\n",
       "      <th>Population</th>\n",
       "      <th>Violent Crime</th>\n",
       "      <th>Murder and Manslaughter</th>\n",
       "      <th>Rape</th>\n",
       "      <th>Robbery</th>\n",
       "      <th>Aggrevated Assult</th>\n",
       "      <th>Property Crime</th>\n",
       "      <th>Burglary</th>\n",
       "      <th>Larceny and Theft</th>\n",
       "      <th>Motor Vehicle Theft</th>\n",
       "    </tr>\n",
       "  </thead>\n",
       "  <tbody>\n",
       "    <tr>\n",
       "      <th>0</th>\n",
       "      <td>1997</td>\n",
       "      <td>267783607.0</td>\n",
       "      <td>1636096.0</td>\n",
       "      <td>18208.0</td>\n",
       "      <td>96153.0</td>\n",
       "      <td>498534.0</td>\n",
       "      <td>1023201.0</td>\n",
       "      <td>11558475.0</td>\n",
       "      <td>2460526</td>\n",
       "      <td>7743760.0</td>\n",
       "      <td>1354189.0</td>\n",
       "    </tr>\n",
       "    <tr>\n",
       "      <th>1</th>\n",
       "      <td>1998</td>\n",
       "      <td>270248003.0</td>\n",
       "      <td>1533887.0</td>\n",
       "      <td>16974.0</td>\n",
       "      <td>93144.0</td>\n",
       "      <td>447186.0</td>\n",
       "      <td>976583.0</td>\n",
       "      <td>10951827.0</td>\n",
       "      <td>2332735</td>\n",
       "      <td>7376311.0</td>\n",
       "      <td>1242781.0</td>\n",
       "    </tr>\n",
       "    <tr>\n",
       "      <th>2</th>\n",
       "      <td>1999</td>\n",
       "      <td>272690813.0</td>\n",
       "      <td>1426044.0</td>\n",
       "      <td>15522.0</td>\n",
       "      <td>89411.0</td>\n",
       "      <td>409371.0</td>\n",
       "      <td>911740.0</td>\n",
       "      <td>10208334.0</td>\n",
       "      <td>2100739</td>\n",
       "      <td>6955520.0</td>\n",
       "      <td>1152075.0</td>\n",
       "    </tr>\n",
       "    <tr>\n",
       "      <th>3</th>\n",
       "      <td>2000</td>\n",
       "      <td>281421906.0</td>\n",
       "      <td>1425486.0</td>\n",
       "      <td>15586.0</td>\n",
       "      <td>90178.0</td>\n",
       "      <td>408016.0</td>\n",
       "      <td>911706.0</td>\n",
       "      <td>10182584.0</td>\n",
       "      <td>2050992</td>\n",
       "      <td>6971590.0</td>\n",
       "      <td>1160002.0</td>\n",
       "    </tr>\n",
       "    <tr>\n",
       "      <th>4</th>\n",
       "      <td>20015</td>\n",
       "      <td>285317559.0</td>\n",
       "      <td>1439480.0</td>\n",
       "      <td>16037.0</td>\n",
       "      <td>90863.0</td>\n",
       "      <td>423557.0</td>\n",
       "      <td>909023.0</td>\n",
       "      <td>10437189.0</td>\n",
       "      <td>2116531</td>\n",
       "      <td>7092267.0</td>\n",
       "      <td>1228391.0</td>\n",
       "    </tr>\n",
       "    <tr>\n",
       "      <th>5</th>\n",
       "      <td>2002</td>\n",
       "      <td>287973924.0</td>\n",
       "      <td>1423677.0</td>\n",
       "      <td>16229.0</td>\n",
       "      <td>95235.0</td>\n",
       "      <td>420806.0</td>\n",
       "      <td>891407.0</td>\n",
       "      <td>10455277.0</td>\n",
       "      <td>2151252</td>\n",
       "      <td>7057379.0</td>\n",
       "      <td>1246646.0</td>\n",
       "    </tr>\n",
       "    <tr>\n",
       "      <th>6</th>\n",
       "      <td>2003</td>\n",
       "      <td>290788976.0</td>\n",
       "      <td>1383676.0</td>\n",
       "      <td>16528.0</td>\n",
       "      <td>93883.0</td>\n",
       "      <td>414235.0</td>\n",
       "      <td>859030.0</td>\n",
       "      <td>10442862.0</td>\n",
       "      <td>2154834</td>\n",
       "      <td>7026802.0</td>\n",
       "      <td>1261226.0</td>\n",
       "    </tr>\n",
       "    <tr>\n",
       "      <th>7</th>\n",
       "      <td>2004</td>\n",
       "      <td>293656842.0</td>\n",
       "      <td>1360088.0</td>\n",
       "      <td>16148.0</td>\n",
       "      <td>95089.0</td>\n",
       "      <td>401470.0</td>\n",
       "      <td>847381.0</td>\n",
       "      <td>10319386.0</td>\n",
       "      <td>2144446</td>\n",
       "      <td>6937089.0</td>\n",
       "      <td>1237851.0</td>\n",
       "    </tr>\n",
       "    <tr>\n",
       "      <th>8</th>\n",
       "      <td>2005</td>\n",
       "      <td>296507061.0</td>\n",
       "      <td>1390745.0</td>\n",
       "      <td>16740.0</td>\n",
       "      <td>94347.0</td>\n",
       "      <td>417438.0</td>\n",
       "      <td>862220.0</td>\n",
       "      <td>10174754.0</td>\n",
       "      <td>2155448</td>\n",
       "      <td>6783447.0</td>\n",
       "      <td>1235859.0</td>\n",
       "    </tr>\n",
       "    <tr>\n",
       "      <th>9</th>\n",
       "      <td>2006</td>\n",
       "      <td>299398484.0</td>\n",
       "      <td>1435123.0</td>\n",
       "      <td>17309.0</td>\n",
       "      <td>94472.0</td>\n",
       "      <td>449246.0</td>\n",
       "      <td>874096.0</td>\n",
       "      <td>10019601.0</td>\n",
       "      <td>2194993</td>\n",
       "      <td>6626363.0</td>\n",
       "      <td>1198245.0</td>\n",
       "    </tr>\n",
       "    <tr>\n",
       "      <th>10</th>\n",
       "      <td>2007</td>\n",
       "      <td>301621157.0</td>\n",
       "      <td>1422970.0</td>\n",
       "      <td>17128.0</td>\n",
       "      <td>92160.0</td>\n",
       "      <td>447324.0</td>\n",
       "      <td>866358.0</td>\n",
       "      <td>9882212.0</td>\n",
       "      <td>2190198</td>\n",
       "      <td>6591542.0</td>\n",
       "      <td>1100472.0</td>\n",
       "    </tr>\n",
       "    <tr>\n",
       "      <th>11</th>\n",
       "      <td>2008</td>\n",
       "      <td>304059724.0</td>\n",
       "      <td>1394461.0</td>\n",
       "      <td>16465.0</td>\n",
       "      <td>90750.0</td>\n",
       "      <td>443563.0</td>\n",
       "      <td>843683.0</td>\n",
       "      <td>9774152.0</td>\n",
       "      <td>2228887</td>\n",
       "      <td>6586206.0</td>\n",
       "      <td>959059.0</td>\n",
       "    </tr>\n",
       "    <tr>\n",
       "      <th>12</th>\n",
       "      <td>2009</td>\n",
       "      <td>307006550.0</td>\n",
       "      <td>1325896.0</td>\n",
       "      <td>15399.0</td>\n",
       "      <td>89241.0</td>\n",
       "      <td>408742.0</td>\n",
       "      <td>812514.0</td>\n",
       "      <td>9337060.0</td>\n",
       "      <td>2203313</td>\n",
       "      <td>6338095.0</td>\n",
       "      <td>795652.0</td>\n",
       "    </tr>\n",
       "    <tr>\n",
       "      <th>13</th>\n",
       "      <td>2010</td>\n",
       "      <td>309330219.0</td>\n",
       "      <td>1251248.0</td>\n",
       "      <td>14722.0</td>\n",
       "      <td>85593.0</td>\n",
       "      <td>369089.0</td>\n",
       "      <td>781844.0</td>\n",
       "      <td>9112625.0</td>\n",
       "      <td>2168459</td>\n",
       "      <td>6204601.0</td>\n",
       "      <td>739565.0</td>\n",
       "    </tr>\n",
       "    <tr>\n",
       "      <th>14</th>\n",
       "      <td>2011</td>\n",
       "      <td>311587816.0</td>\n",
       "      <td>1206005.0</td>\n",
       "      <td>14661.0</td>\n",
       "      <td>84175.0</td>\n",
       "      <td>354746.0</td>\n",
       "      <td>752423.0</td>\n",
       "      <td>9052743.0</td>\n",
       "      <td>2185140</td>\n",
       "      <td>6151095.0</td>\n",
       "      <td>716508.0</td>\n",
       "    </tr>\n",
       "    <tr>\n",
       "      <th>15</th>\n",
       "      <td>2012</td>\n",
       "      <td>313873685.0</td>\n",
       "      <td>1217057.0</td>\n",
       "      <td>14856.0</td>\n",
       "      <td>85141.0</td>\n",
       "      <td>355051.0</td>\n",
       "      <td>762009.0</td>\n",
       "      <td>9001992.0</td>\n",
       "      <td>2109932</td>\n",
       "      <td>6168874.0</td>\n",
       "      <td>723186.0</td>\n",
       "    </tr>\n",
       "    <tr>\n",
       "      <th>16</th>\n",
       "      <td>2013</td>\n",
       "      <td>316497531.0</td>\n",
       "      <td>1168298.0</td>\n",
       "      <td>14319.0</td>\n",
       "      <td>82109.0</td>\n",
       "      <td>345093.0</td>\n",
       "      <td>726777.0</td>\n",
       "      <td>8651892.0</td>\n",
       "      <td>1932139</td>\n",
       "      <td>6019465.0</td>\n",
       "      <td>700288.0</td>\n",
       "    </tr>\n",
       "    <tr>\n",
       "      <th>17</th>\n",
       "      <td>2014</td>\n",
       "      <td>318907401.0</td>\n",
       "      <td>1153022.0</td>\n",
       "      <td>14164.0</td>\n",
       "      <td>84864.0</td>\n",
       "      <td>322905.0</td>\n",
       "      <td>731089.0</td>\n",
       "      <td>8209010.0</td>\n",
       "      <td>1713153</td>\n",
       "      <td>5809054.0</td>\n",
       "      <td>686803.0</td>\n",
       "    </tr>\n",
       "    <tr>\n",
       "      <th>18</th>\n",
       "      <td>20156</td>\n",
       "      <td>320896618.0</td>\n",
       "      <td>1199310.0</td>\n",
       "      <td>15883.0</td>\n",
       "      <td>91261.0</td>\n",
       "      <td>328109.0</td>\n",
       "      <td>764057.0</td>\n",
       "      <td>8024115.0</td>\n",
       "      <td>1587564</td>\n",
       "      <td>5723488.0</td>\n",
       "      <td>713063.0</td>\n",
       "    </tr>\n",
       "    <tr>\n",
       "      <th>19</th>\n",
       "      <td>2016</td>\n",
       "      <td>323127513.0</td>\n",
       "      <td>1248185.0</td>\n",
       "      <td>17250.0</td>\n",
       "      <td>95730.0</td>\n",
       "      <td>332198.0</td>\n",
       "      <td>803007.0</td>\n",
       "      <td>7919035.0</td>\n",
       "      <td>1515096</td>\n",
       "      <td>5638455.0</td>\n",
       "      <td>765484.0</td>\n",
       "    </tr>\n",
       "  </tbody>\n",
       "</table>\n",
       "</div>"
      ],
      "text/plain": [
       "     Year   Population  Violent Crime  Murder and Manslaughter     Rape  \\\n",
       "0    1997  267783607.0      1636096.0                  18208.0  96153.0   \n",
       "1    1998  270248003.0      1533887.0                  16974.0  93144.0   \n",
       "2    1999  272690813.0      1426044.0                  15522.0  89411.0   \n",
       "3    2000  281421906.0      1425486.0                  15586.0  90178.0   \n",
       "4   20015  285317559.0      1439480.0                  16037.0  90863.0   \n",
       "5    2002  287973924.0      1423677.0                  16229.0  95235.0   \n",
       "6    2003  290788976.0      1383676.0                  16528.0  93883.0   \n",
       "7    2004  293656842.0      1360088.0                  16148.0  95089.0   \n",
       "8    2005  296507061.0      1390745.0                  16740.0  94347.0   \n",
       "9    2006  299398484.0      1435123.0                  17309.0  94472.0   \n",
       "10   2007  301621157.0      1422970.0                  17128.0  92160.0   \n",
       "11   2008  304059724.0      1394461.0                  16465.0  90750.0   \n",
       "12   2009  307006550.0      1325896.0                  15399.0  89241.0   \n",
       "13   2010  309330219.0      1251248.0                  14722.0  85593.0   \n",
       "14   2011  311587816.0      1206005.0                  14661.0  84175.0   \n",
       "15   2012  313873685.0      1217057.0                  14856.0  85141.0   \n",
       "16   2013  316497531.0      1168298.0                  14319.0  82109.0   \n",
       "17   2014  318907401.0      1153022.0                  14164.0  84864.0   \n",
       "18  20156  320896618.0      1199310.0                  15883.0  91261.0   \n",
       "19   2016  323127513.0      1248185.0                  17250.0  95730.0   \n",
       "\n",
       "     Robbery  Aggrevated Assult  Property Crime Burglary  Larceny and Theft  \\\n",
       "0   498534.0          1023201.0      11558475.0  2460526          7743760.0   \n",
       "1   447186.0           976583.0      10951827.0  2332735          7376311.0   \n",
       "2   409371.0           911740.0      10208334.0  2100739          6955520.0   \n",
       "3   408016.0           911706.0      10182584.0  2050992          6971590.0   \n",
       "4   423557.0           909023.0      10437189.0  2116531          7092267.0   \n",
       "5   420806.0           891407.0      10455277.0  2151252          7057379.0   \n",
       "6   414235.0           859030.0      10442862.0  2154834          7026802.0   \n",
       "7   401470.0           847381.0      10319386.0  2144446          6937089.0   \n",
       "8   417438.0           862220.0      10174754.0  2155448          6783447.0   \n",
       "9   449246.0           874096.0      10019601.0  2194993          6626363.0   \n",
       "10  447324.0           866358.0       9882212.0  2190198          6591542.0   \n",
       "11  443563.0           843683.0       9774152.0  2228887          6586206.0   \n",
       "12  408742.0           812514.0       9337060.0  2203313          6338095.0   \n",
       "13  369089.0           781844.0       9112625.0  2168459          6204601.0   \n",
       "14  354746.0           752423.0       9052743.0  2185140          6151095.0   \n",
       "15  355051.0           762009.0       9001992.0  2109932          6168874.0   \n",
       "16  345093.0           726777.0       8651892.0  1932139          6019465.0   \n",
       "17  322905.0           731089.0       8209010.0  1713153          5809054.0   \n",
       "18  328109.0           764057.0       8024115.0  1587564          5723488.0   \n",
       "19  332198.0           803007.0       7919035.0  1515096          5638455.0   \n",
       "\n",
       "    Motor Vehicle Theft  \n",
       "0             1354189.0  \n",
       "1             1242781.0  \n",
       "2             1152075.0  \n",
       "3             1160002.0  \n",
       "4             1228391.0  \n",
       "5             1246646.0  \n",
       "6             1261226.0  \n",
       "7             1237851.0  \n",
       "8             1235859.0  \n",
       "9             1198245.0  \n",
       "10            1100472.0  \n",
       "11             959059.0  \n",
       "12             795652.0  \n",
       "13             739565.0  \n",
       "14             716508.0  \n",
       "15             723186.0  \n",
       "16             700288.0  \n",
       "17             686803.0  \n",
       "18             713063.0  \n",
       "19             765484.0  "
      ]
     },
     "execution_count": 5,
     "metadata": {},
     "output_type": "execute_result"
    }
   ],
   "source": [
    "crime_trends = pd.read_excel('data/Table_1_Crime_in_the_United_States_by_Volume_and_Rate_per_100000_Inhabitants_1997-2016.xls',skiprows=3)\n",
    "crime_trends = crime_trends.iloc[:-7,:]\n",
    "\n",
    "\n",
    "# only keep columns Year,\tPopulation1,\tViolent\\ncrime2, Murder and\\nnonnegligent \\nmanslaughter, Rape\\n(legacy \\ndefinition)4, Aggravated \\nassault, Property \\ncrime, Burglary, Larceny-\\ntheft\n",
    "crime_trends = crime_trends.iloc[:,[0,1,2,4,8,10,12,14,16,18,20]]\n",
    "headers = ['Year','Population','Violent Crime','Murder and Manslaughter','Rape','Robbery','Aggrevated Assult','Property Crime','Burglary','Larceny and Theft','Motor Vehicle Theft']\n",
    "crime_trends.columns = headers\n",
    "crime_trends = crime_trends.reset_index(drop=True)\n",
    "crime_trends.to_csv('data/crime_trends.csv')\n",
    "crime_trends.head(20)"
   ]
  },
  {
   "cell_type": "markdown",
   "metadata": {},
   "source": [
    "## arrests by crime by ethnicity"
   ]
  },
  {
   "cell_type": "code",
   "execution_count": 6,
   "metadata": {},
   "outputs": [
    {
     "data": {
      "text/html": [
       "<div>\n",
       "<style scoped>\n",
       "    .dataframe tbody tr th:only-of-type {\n",
       "        vertical-align: middle;\n",
       "    }\n",
       "\n",
       "    .dataframe tbody tr th {\n",
       "        vertical-align: top;\n",
       "    }\n",
       "\n",
       "    .dataframe thead th {\n",
       "        text-align: right;\n",
       "    }\n",
       "</style>\n",
       "<table border=\"1\" class=\"dataframe\">\n",
       "  <thead>\n",
       "    <tr style=\"text-align: right;\">\n",
       "      <th></th>\n",
       "      <th>Type of crime</th>\n",
       "      <th>Total</th>\n",
       "      <th>White</th>\n",
       "      <th>Black</th>\n",
       "      <th>American or Alaskan Native</th>\n",
       "      <th>Asian</th>\n",
       "      <th>Hawaiian or North Pacific Ilander</th>\n",
       "    </tr>\n",
       "  </thead>\n",
       "  <tbody>\n",
       "    <tr>\n",
       "      <th>0</th>\n",
       "      <td>TOTAL</td>\n",
       "      <td>8421481.0</td>\n",
       "      <td>5858330.0</td>\n",
       "      <td>2263112.0</td>\n",
       "      <td>171185.0</td>\n",
       "      <td>103244.0</td>\n",
       "      <td>25610.0</td>\n",
       "    </tr>\n",
       "    <tr>\n",
       "      <th>1</th>\n",
       "      <td>Murder and nonnegligent manslaughter</td>\n",
       "      <td>9374.0</td>\n",
       "      <td>4192.0</td>\n",
       "      <td>4935.0</td>\n",
       "      <td>108.0</td>\n",
       "      <td>109.0</td>\n",
       "      <td>30.0</td>\n",
       "    </tr>\n",
       "    <tr>\n",
       "      <th>2</th>\n",
       "      <td>Rape3</td>\n",
       "      <td>18606.0</td>\n",
       "      <td>12571.0</td>\n",
       "      <td>5412.0</td>\n",
       "      <td>233.0</td>\n",
       "      <td>309.0</td>\n",
       "      <td>81.0</td>\n",
       "    </tr>\n",
       "    <tr>\n",
       "      <th>3</th>\n",
       "      <td>Robbery</td>\n",
       "      <td>76267.0</td>\n",
       "      <td>33095.0</td>\n",
       "      <td>41562.0</td>\n",
       "      <td>663.0</td>\n",
       "      <td>659.0</td>\n",
       "      <td>288.0</td>\n",
       "    </tr>\n",
       "    <tr>\n",
       "      <th>4</th>\n",
       "      <td>Aggravated assault</td>\n",
       "      <td>304626.0</td>\n",
       "      <td>191205.0</td>\n",
       "      <td>101432.0</td>\n",
       "      <td>6374.0</td>\n",
       "      <td>4678.0</td>\n",
       "      <td>937.0</td>\n",
       "    </tr>\n",
       "    <tr>\n",
       "      <th>5</th>\n",
       "      <td>Burglary</td>\n",
       "      <td>164641.0</td>\n",
       "      <td>112651.0</td>\n",
       "      <td>47991.0</td>\n",
       "      <td>1613.0</td>\n",
       "      <td>1925.0</td>\n",
       "      <td>461.0</td>\n",
       "    </tr>\n",
       "    <tr>\n",
       "      <th>6</th>\n",
       "      <td>Larceny-theft</td>\n",
       "      <td>833558.0</td>\n",
       "      <td>575105.0</td>\n",
       "      <td>231199.0</td>\n",
       "      <td>14933.0</td>\n",
       "      <td>10277.0</td>\n",
       "      <td>2044.0</td>\n",
       "    </tr>\n",
       "    <tr>\n",
       "      <th>7</th>\n",
       "      <td>Motor vehicle theft</td>\n",
       "      <td>68170.0</td>\n",
       "      <td>44970.0</td>\n",
       "      <td>20955.0</td>\n",
       "      <td>1018.0</td>\n",
       "      <td>895.0</td>\n",
       "      <td>332.0</td>\n",
       "    </tr>\n",
       "    <tr>\n",
       "      <th>8</th>\n",
       "      <td>Arson</td>\n",
       "      <td>7767.0</td>\n",
       "      <td>5593.0</td>\n",
       "      <td>1813.0</td>\n",
       "      <td>218.0</td>\n",
       "      <td>120.0</td>\n",
       "      <td>23.0</td>\n",
       "    </tr>\n",
       "    <tr>\n",
       "      <th>9</th>\n",
       "      <td>Violent crime4</td>\n",
       "      <td>408873.0</td>\n",
       "      <td>241063.0</td>\n",
       "      <td>153341.0</td>\n",
       "      <td>7378.0</td>\n",
       "      <td>5755.0</td>\n",
       "      <td>1336.0</td>\n",
       "    </tr>\n",
       "    <tr>\n",
       "      <th>10</th>\n",
       "      <td>Property crime4</td>\n",
       "      <td>1074136.0</td>\n",
       "      <td>738319.0</td>\n",
       "      <td>301958.0</td>\n",
       "      <td>17782.0</td>\n",
       "      <td>13217.0</td>\n",
       "      <td>2860.0</td>\n",
       "    </tr>\n",
       "  </tbody>\n",
       "</table>\n",
       "</div>"
      ],
      "text/plain": [
       "                           Type of crime      Total      White      Black  \\\n",
       "0                                  TOTAL  8421481.0  5858330.0  2263112.0   \n",
       "1   Murder and nonnegligent manslaughter     9374.0     4192.0     4935.0   \n",
       "2                                  Rape3    18606.0    12571.0     5412.0   \n",
       "3                                Robbery    76267.0    33095.0    41562.0   \n",
       "4                     Aggravated assault   304626.0   191205.0   101432.0   \n",
       "5                               Burglary   164641.0   112651.0    47991.0   \n",
       "6                          Larceny-theft   833558.0   575105.0   231199.0   \n",
       "7                    Motor vehicle theft    68170.0    44970.0    20955.0   \n",
       "8                                  Arson     7767.0     5593.0     1813.0   \n",
       "9                         Violent crime4   408873.0   241063.0   153341.0   \n",
       "10                       Property crime4  1074136.0   738319.0   301958.0   \n",
       "\n",
       "    American or Alaskan Native     Asian  Hawaiian or North Pacific Ilander  \n",
       "0                     171185.0  103244.0                            25610.0  \n",
       "1                        108.0     109.0                               30.0  \n",
       "2                        233.0     309.0                               81.0  \n",
       "3                        663.0     659.0                              288.0  \n",
       "4                       6374.0    4678.0                              937.0  \n",
       "5                       1613.0    1925.0                              461.0  \n",
       "6                      14933.0   10277.0                             2044.0  \n",
       "7                       1018.0     895.0                              332.0  \n",
       "8                        218.0     120.0                               23.0  \n",
       "9                       7378.0    5755.0                             1336.0  \n",
       "10                     17782.0   13217.0                             2860.0  "
      ]
     },
     "execution_count": 6,
     "metadata": {},
     "output_type": "execute_result"
    }
   ],
   "source": [
    "arrests_by_crime_ethincity = pd.read_excel('data/Table_21A_Arrests_by_Race_and_Ethnicity_2016-mod.xlsx',skiprows=6)\n",
    "arrests_by_crime_ethincity.head(20)\n",
    "arrests_by_crime_ethincity=arrests_by_crime_ethincity.iloc[[0,1,2,3,4,5,6,7,8,9,10],[0,1,2,3,4,5,6]]\n",
    "arrests_by_crime_ethincity.head(20)\n",
    "headers = ['Type of crime','Total','White','Black','American or Alaskan Native','Asian','Hawaiian or North Pacific Ilander']\n",
    "arrests_by_crime_ethincity.columns = headers\n",
    "arrests_by_crime_ethincity.to_csv('data/arrests_by_crime_and_ethnicity.csv')\n",
    "arrests_by_crime_ethincity.head(20)"
   ]
  },
  {
   "cell_type": "markdown",
   "metadata": {},
   "source": [
    "murder vicitims by race ethnicity"
   ]
  },
  {
   "cell_type": "code",
   "execution_count": 7,
   "metadata": {},
   "outputs": [],
   "source": [
    "murder_victims = pd.read_excel('data/Expanded_Homicide_Data_Table_1_Murder_Victims_by_Race_Ethnicity_and_Sex_2016.xls',skiprows=4)\n",
    "murder_victims = murder_victims.iloc[1:7,:]\n",
    "murder_victims.head(10)\n",
    "headers=[\"Race\",\"Total\",\"Male\",\"Female\",\"Unkown\"]\n",
    "murder_victims.columns = headers\n",
    "murder_victims.head()\n",
    "murder_victims.to_csv(\"data/murder_victims.csv\")"
   ]
  },
  {
   "cell_type": "markdown",
   "metadata": {},
   "source": [
    "murder offenders"
   ]
  },
  {
   "cell_type": "code",
   "execution_count": 8,
   "metadata": {},
   "outputs": [],
   "source": [
    "murder_offenders = pd.read_excel('data/Expanded_Homicide_Data_Table_2_Murder_Offenders_by_Age_Sex_and_Race_2016-mod.xlsx')\n",
    "murder_offenders=murder_offenders.iloc[:19,:10]\n",
    "\n",
    "headers = ['Age','Total','Male','Female','Unkonwn','White','Black','Other','Unkonwn','Hispanic or latino']\n",
    "murder_offenders.columns = headers\n",
    "age_groups = ['9 to 18', '18 to 60', '60 and over']\n",
    "murder_offenders = murder_offenders[murder_offenders['Age'].isin(age_groups)]\n",
    "murder_offenders.head()\n",
    "murder_offenders.to_csv('data/murder_offenders.csv')\n"
   ]
  },
  {
   "cell_type": "markdown",
   "metadata": {},
   "source": [
    "heatmap"
   ]
  },
  {
   "cell_type": "code",
   "execution_count": 9,
   "metadata": {},
   "outputs": [],
   "source": [
    "heatmap_race = pd.read_excel('data/Expanded_Homicide_Data_Table_3_Murder_Race_and_Sex_of_Vicitm_by_Race_of_Offender_2016-mod.xlsx')\n",
    "heatmap_race=heatmap_race.iloc[:,:8]\n",
    "headers = ['Race of victim','Total','White','Black','Other','Hispanic','Non Hispanic','Unkonwn']\n",
    "heatmap_race.columns = headers\n",
    "heatmap_race.head()\n",
    "heatmap_race.to_csv('data/heatmap_offenders_victims_by_race')\n",
    "\n",
    "\n"
   ]
  },
  {
   "cell_type": "code",
   "execution_count": 10,
   "metadata": {},
   "outputs": [
    {
     "data": {
      "text/html": [
       "<div>\n",
       "<style scoped>\n",
       "    .dataframe tbody tr th:only-of-type {\n",
       "        vertical-align: middle;\n",
       "    }\n",
       "\n",
       "    .dataframe tbody tr th {\n",
       "        vertical-align: top;\n",
       "    }\n",
       "\n",
       "    .dataframe thead th {\n",
       "        text-align: right;\n",
       "    }\n",
       "</style>\n",
       "<table border=\"1\" class=\"dataframe\">\n",
       "  <thead>\n",
       "    <tr style=\"text-align: right;\">\n",
       "      <th></th>\n",
       "      <th>Sex of victim</th>\n",
       "      <th>Total</th>\n",
       "      <th>Male</th>\n",
       "      <th>Female</th>\n",
       "      <th>Uknown</th>\n",
       "    </tr>\n",
       "  </thead>\n",
       "  <tbody>\n",
       "    <tr>\n",
       "      <th>0</th>\n",
       "      <td>Male</td>\n",
       "      <td>4751</td>\n",
       "      <td>4260</td>\n",
       "      <td>471</td>\n",
       "      <td>20</td>\n",
       "    </tr>\n",
       "    <tr>\n",
       "      <th>1</th>\n",
       "      <td>Female</td>\n",
       "      <td>1913</td>\n",
       "      <td>1735</td>\n",
       "      <td>176</td>\n",
       "      <td>2</td>\n",
       "    </tr>\n",
       "    <tr>\n",
       "      <th>2</th>\n",
       "      <td>Unknown sex</td>\n",
       "      <td>12</td>\n",
       "      <td>8</td>\n",
       "      <td>4</td>\n",
       "      <td>0</td>\n",
       "    </tr>\n",
       "  </tbody>\n",
       "</table>\n",
       "</div>"
      ],
      "text/plain": [
       "  Sex of victim  Total  Male  Female  Uknown\n",
       "0         Male    4751  4260     471      20\n",
       "1       Female    1913  1735     176       2\n",
       "2   Unknown sex     12     8       4       0"
      ]
     },
     "execution_count": 10,
     "metadata": {},
     "output_type": "execute_result"
    }
   ],
   "source": [
    "heatmap_sex = pd.read_excel('data/Expanded_Homicide_Data_Table_3_Murder_Race_and_Sex_of_Vicitm_by_Sex_of_Offender_2016-mod.xlsx')\n",
    "headers = ['Sex of victim','Total','Male','Female','Uknown']\n",
    "heatmap_sex.columns = headers\n",
    "heatmap_sex.to_csv('data/heatmap_offenders_victims_by_sex')\n",
    "heatmap_sex.head()"
   ]
  },
  {
   "cell_type": "code",
   "execution_count": 11,
   "metadata": {},
   "outputs": [],
   "source": [
    "import matplotlib.pyplot as plt\n",
    "import geopandas as gpd\n"
   ]
  },
  {
   "cell_type": "markdown",
   "metadata": {},
   "source": [
    "arrests by crime by ethnicity"
   ]
  },
  {
   "cell_type": "code",
   "execution_count": 22,
   "metadata": {},
   "outputs": [
    {
     "data": {
      "text/html": [
       "<div>\n",
       "<style scoped>\n",
       "    .dataframe tbody tr th:only-of-type {\n",
       "        vertical-align: middle;\n",
       "    }\n",
       "\n",
       "    .dataframe tbody tr th {\n",
       "        vertical-align: top;\n",
       "    }\n",
       "\n",
       "    .dataframe thead th {\n",
       "        text-align: right;\n",
       "    }\n",
       "</style>\n",
       "<table border=\"1\" class=\"dataframe\">\n",
       "  <thead>\n",
       "    <tr style=\"text-align: right;\">\n",
       "      <th></th>\n",
       "      <th>Unnamed: 0</th>\n",
       "      <th>Type of crime</th>\n",
       "      <th>Total</th>\n",
       "      <th>White</th>\n",
       "      <th>Black</th>\n",
       "      <th>American or Alaskan Native</th>\n",
       "      <th>Asian</th>\n",
       "      <th>Hawaiian or North Pacific Ilander</th>\n",
       "    </tr>\n",
       "  </thead>\n",
       "  <tbody>\n",
       "    <tr>\n",
       "      <th>1</th>\n",
       "      <td>1</td>\n",
       "      <td>Murder and Manslaughter</td>\n",
       "      <td>9374.0</td>\n",
       "      <td>4192.0</td>\n",
       "      <td>4935.0</td>\n",
       "      <td>108.0</td>\n",
       "      <td>109.0</td>\n",
       "      <td>30.0</td>\n",
       "    </tr>\n",
       "    <tr>\n",
       "      <th>2</th>\n",
       "      <td>2</td>\n",
       "      <td>Rape</td>\n",
       "      <td>18606.0</td>\n",
       "      <td>12571.0</td>\n",
       "      <td>5412.0</td>\n",
       "      <td>233.0</td>\n",
       "      <td>309.0</td>\n",
       "      <td>81.0</td>\n",
       "    </tr>\n",
       "    <tr>\n",
       "      <th>3</th>\n",
       "      <td>3</td>\n",
       "      <td>Robbery</td>\n",
       "      <td>76267.0</td>\n",
       "      <td>33095.0</td>\n",
       "      <td>41562.0</td>\n",
       "      <td>663.0</td>\n",
       "      <td>659.0</td>\n",
       "      <td>288.0</td>\n",
       "    </tr>\n",
       "    <tr>\n",
       "      <th>4</th>\n",
       "      <td>4</td>\n",
       "      <td>Aggravated assault</td>\n",
       "      <td>304626.0</td>\n",
       "      <td>191205.0</td>\n",
       "      <td>101432.0</td>\n",
       "      <td>6374.0</td>\n",
       "      <td>4678.0</td>\n",
       "      <td>937.0</td>\n",
       "    </tr>\n",
       "    <tr>\n",
       "      <th>5</th>\n",
       "      <td>5</td>\n",
       "      <td>Burglary</td>\n",
       "      <td>164641.0</td>\n",
       "      <td>112651.0</td>\n",
       "      <td>47991.0</td>\n",
       "      <td>1613.0</td>\n",
       "      <td>1925.0</td>\n",
       "      <td>461.0</td>\n",
       "    </tr>\n",
       "    <tr>\n",
       "      <th>6</th>\n",
       "      <td>6</td>\n",
       "      <td>Larceny-theft</td>\n",
       "      <td>833558.0</td>\n",
       "      <td>575105.0</td>\n",
       "      <td>231199.0</td>\n",
       "      <td>14933.0</td>\n",
       "      <td>10277.0</td>\n",
       "      <td>2044.0</td>\n",
       "    </tr>\n",
       "  </tbody>\n",
       "</table>\n",
       "</div>"
      ],
      "text/plain": [
       "   Unnamed: 0            Type of crime     Total     White     Black  \\\n",
       "1           1  Murder and Manslaughter    9374.0    4192.0    4935.0   \n",
       "2           2                     Rape   18606.0   12571.0    5412.0   \n",
       "3           3                  Robbery   76267.0   33095.0   41562.0   \n",
       "4           4       Aggravated assault  304626.0  191205.0  101432.0   \n",
       "5           5                 Burglary  164641.0  112651.0   47991.0   \n",
       "6           6            Larceny-theft  833558.0  575105.0  231199.0   \n",
       "\n",
       "   American or Alaskan Native    Asian  Hawaiian or North Pacific Ilander  \n",
       "1                       108.0    109.0                               30.0  \n",
       "2                       233.0    309.0                               81.0  \n",
       "3                       663.0    659.0                              288.0  \n",
       "4                      6374.0   4678.0                              937.0  \n",
       "5                      1613.0   1925.0                              461.0  \n",
       "6                     14933.0  10277.0                             2044.0  "
      ]
     },
     "execution_count": 22,
     "metadata": {},
     "output_type": "execute_result"
    }
   ],
   "source": [
    "arrests_by_crime_ethnicity = pd.read_csv('data-dir/arrests_by_crime_and_ethnicity.csv')\n",
    "arrests_by_crime_ethnicity= arrests_by_crime_ethnicity.iloc[[1,2,3,4,5,6]]\n",
    "arrests_by_crime_ethnicity.head(10)"
   ]
  },
  {
   "cell_type": "code",
   "execution_count": 37,
   "metadata": {},
   "outputs": [
    {
     "data": {
      "text/html": [
       "<div>\n",
       "<style scoped>\n",
       "    .dataframe tbody tr th:only-of-type {\n",
       "        vertical-align: middle;\n",
       "    }\n",
       "\n",
       "    .dataframe tbody tr th {\n",
       "        vertical-align: top;\n",
       "    }\n",
       "\n",
       "    .dataframe thead th {\n",
       "        text-align: right;\n",
       "    }\n",
       "</style>\n",
       "<table border=\"1\" class=\"dataframe\">\n",
       "  <thead>\n",
       "    <tr style=\"text-align: right;\">\n",
       "      <th></th>\n",
       "      <th>Type of crime</th>\n",
       "      <th>Murder and Manslaughter</th>\n",
       "      <th>Rape</th>\n",
       "      <th>Robbery</th>\n",
       "      <th>Aggravated Assault</th>\n",
       "      <th>Burglary</th>\n",
       "      <th>Larceny-theft</th>\n",
       "    </tr>\n",
       "  </thead>\n",
       "  <tbody>\n",
       "    <tr>\n",
       "      <th>0</th>\n",
       "      <td>Total</td>\n",
       "      <td>9374.0</td>\n",
       "      <td>18606.0</td>\n",
       "      <td>76267.0</td>\n",
       "      <td>304626.0</td>\n",
       "      <td>164641.0</td>\n",
       "      <td>833558.0</td>\n",
       "    </tr>\n",
       "    <tr>\n",
       "      <th>1</th>\n",
       "      <td>White</td>\n",
       "      <td>4192.0</td>\n",
       "      <td>12571.0</td>\n",
       "      <td>33095.0</td>\n",
       "      <td>191205.0</td>\n",
       "      <td>112651.0</td>\n",
       "      <td>575105.0</td>\n",
       "    </tr>\n",
       "    <tr>\n",
       "      <th>2</th>\n",
       "      <td>Black</td>\n",
       "      <td>4935.0</td>\n",
       "      <td>5412.0</td>\n",
       "      <td>41562.0</td>\n",
       "      <td>101432.0</td>\n",
       "      <td>47991.0</td>\n",
       "      <td>231199.0</td>\n",
       "    </tr>\n",
       "    <tr>\n",
       "      <th>3</th>\n",
       "      <td>American or Alaskan Native</td>\n",
       "      <td>108.0</td>\n",
       "      <td>233.0</td>\n",
       "      <td>663.0</td>\n",
       "      <td>6374.0</td>\n",
       "      <td>1613.0</td>\n",
       "      <td>14933.0</td>\n",
       "    </tr>\n",
       "    <tr>\n",
       "      <th>4</th>\n",
       "      <td>Asian</td>\n",
       "      <td>109.0</td>\n",
       "      <td>309.0</td>\n",
       "      <td>659.0</td>\n",
       "      <td>4678.0</td>\n",
       "      <td>1925.0</td>\n",
       "      <td>10277.0</td>\n",
       "    </tr>\n",
       "    <tr>\n",
       "      <th>5</th>\n",
       "      <td>Hawaiian or North Pacific Ilander</td>\n",
       "      <td>30.0</td>\n",
       "      <td>81.0</td>\n",
       "      <td>288.0</td>\n",
       "      <td>937.0</td>\n",
       "      <td>461.0</td>\n",
       "      <td>2044.0</td>\n",
       "    </tr>\n",
       "  </tbody>\n",
       "</table>\n",
       "</div>"
      ],
      "text/plain": [
       "                       Type of crime  Murder and Manslaughter     Rape  \\\n",
       "0                              Total                   9374.0  18606.0   \n",
       "1                              White                   4192.0  12571.0   \n",
       "2                              Black                   4935.0   5412.0   \n",
       "3         American or Alaskan Native                    108.0    233.0   \n",
       "4                              Asian                    109.0    309.0   \n",
       "5  Hawaiian or North Pacific Ilander                     30.0     81.0   \n",
       "\n",
       "   Robbery  Aggravated Assault  Burglary  Larceny-theft  \n",
       "0  76267.0            304626.0  164641.0       833558.0  \n",
       "1  33095.0            191205.0  112651.0       575105.0  \n",
       "2  41562.0            101432.0   47991.0       231199.0  \n",
       "3    663.0              6374.0    1613.0        14933.0  \n",
       "4    659.0              4678.0    1925.0        10277.0  \n",
       "5    288.0               937.0     461.0         2044.0  "
      ]
     },
     "execution_count": 37,
     "metadata": {},
     "output_type": "execute_result"
    }
   ],
   "source": [
    "arrests_by_crime_ethnicity = pd.read_csv('data-dir/arrests_by_crime_ethnicity_T.csv')\n",
    "\n",
    "arrests_by_crime_ethnicity.head(20)"
   ]
  },
  {
   "cell_type": "code",
   "execution_count": 52,
   "metadata": {},
   "outputs": [
    {
     "name": "stdout",
     "output_type": "stream",
     "text": [
      "[0.44541952 0.67422402 0.43179036 0.62652253 0.68333536 0.68917781]\n",
      "[0.52493579 0.28777328 0.54322905 0.33091419 0.28949933 0.27558766]\n",
      "[0.0083476  0.00820513 0.00493557 0.01790318 0.00701669 0.01550064]\n",
      "[0.00845462 0.01230769 0.00488293 0.01231852 0.00891704 0.00990122]\n",
      "[0. 0. 0. 0. 0. 0.]\n"
     ]
    },
    {
     "data": {
      "application/vnd.plotly.v1+json": {
       "config": {
        "plotlyServerURL": "https://plot.ly"
       },
       "data": [
        {
         "fill": "toself",
         "name": "White",
         "r": [
          0.4454195205479452,
          0.6742240215924427,
          0.4317903631266534,
          0.6265225279809279,
          0.6833353636252893,
          0.6891778130013445
         ],
         "theta": [
          "Murder and Manslaughter",
          "Rape",
          "Robbery",
          "Aggravated Assault",
          "Burglary",
          "Larceny-theft"
         ],
         "type": "scatterpolar"
        },
        {
         "fill": "toself",
         "name": "Black",
         "r": [
          0.5249357876712328,
          0.28777327935222674,
          0.5432290501322734,
          0.33091419182123816,
          0.2894993300036545,
          0.27558766298583065
         ],
         "theta": [
          "Murder and Manslaughter",
          "Rape",
          "Robbery",
          "Aggravated Assault",
          "Burglary",
          "Larceny-theft"
         ],
         "type": "scatterpolar"
        },
        {
         "fill": "toself",
         "name": "American or Alaskan Native",
         "r": [
          0.008347602739726028,
          0.008205128205128205,
          0.0049355743034259466,
          0.017903183849266847,
          0.007016688999878182,
          0.015500640999429955
         ],
         "theta": [
          "Murder and Manslaughter",
          "Rape",
          "Robbery",
          "Aggravated Assault",
          "Burglary",
          "Larceny-theft"
         ],
         "type": "scatterpolar"
        },
        {
         "fill": "toself",
         "name": "Asian",
         "r": [
          0.008454623287671234,
          0.012307692307692308,
          0.004882928177522737,
          0.012318523226063506,
          0.008917042270678523,
          0.00990121633550367
         ],
         "theta": [
          "Murder and Manslaughter",
          "Rape",
          "Robbery",
          "Aggravated Assault",
          "Burglary",
          "Larceny-theft"
         ],
         "type": "scatterpolar"
        },
        {
         "fill": "toself",
         "name": "Hawaiian or North Pacific Ilander",
         "r": [
          0,
          0,
          0,
          0,
          0,
          0
         ],
         "theta": [
          "Murder and Manslaughter",
          "Rape",
          "Robbery",
          "Aggravated Assault",
          "Burglary",
          "Larceny-theft"
         ],
         "type": "scatterpolar"
        }
       ],
       "layout": {
        "polar": {
         "radialaxis": {
          "range": [
           0,
           1
          ],
          "visible": true
         }
        },
        "showlegend": true,
        "template": {
         "data": {
          "bar": [
           {
            "error_x": {
             "color": "#2a3f5f"
            },
            "error_y": {
             "color": "#2a3f5f"
            },
            "marker": {
             "line": {
              "color": "#E5ECF6",
              "width": 0.5
             },
             "pattern": {
              "fillmode": "overlay",
              "size": 10,
              "solidity": 0.2
             }
            },
            "type": "bar"
           }
          ],
          "barpolar": [
           {
            "marker": {
             "line": {
              "color": "#E5ECF6",
              "width": 0.5
             },
             "pattern": {
              "fillmode": "overlay",
              "size": 10,
              "solidity": 0.2
             }
            },
            "type": "barpolar"
           }
          ],
          "carpet": [
           {
            "aaxis": {
             "endlinecolor": "#2a3f5f",
             "gridcolor": "white",
             "linecolor": "white",
             "minorgridcolor": "white",
             "startlinecolor": "#2a3f5f"
            },
            "baxis": {
             "endlinecolor": "#2a3f5f",
             "gridcolor": "white",
             "linecolor": "white",
             "minorgridcolor": "white",
             "startlinecolor": "#2a3f5f"
            },
            "type": "carpet"
           }
          ],
          "choropleth": [
           {
            "colorbar": {
             "outlinewidth": 0,
             "ticks": ""
            },
            "type": "choropleth"
           }
          ],
          "contour": [
           {
            "colorbar": {
             "outlinewidth": 0,
             "ticks": ""
            },
            "colorscale": [
             [
              0,
              "#0d0887"
             ],
             [
              0.1111111111111111,
              "#46039f"
             ],
             [
              0.2222222222222222,
              "#7201a8"
             ],
             [
              0.3333333333333333,
              "#9c179e"
             ],
             [
              0.4444444444444444,
              "#bd3786"
             ],
             [
              0.5555555555555556,
              "#d8576b"
             ],
             [
              0.6666666666666666,
              "#ed7953"
             ],
             [
              0.7777777777777778,
              "#fb9f3a"
             ],
             [
              0.8888888888888888,
              "#fdca26"
             ],
             [
              1,
              "#f0f921"
             ]
            ],
            "type": "contour"
           }
          ],
          "contourcarpet": [
           {
            "colorbar": {
             "outlinewidth": 0,
             "ticks": ""
            },
            "type": "contourcarpet"
           }
          ],
          "heatmap": [
           {
            "colorbar": {
             "outlinewidth": 0,
             "ticks": ""
            },
            "colorscale": [
             [
              0,
              "#0d0887"
             ],
             [
              0.1111111111111111,
              "#46039f"
             ],
             [
              0.2222222222222222,
              "#7201a8"
             ],
             [
              0.3333333333333333,
              "#9c179e"
             ],
             [
              0.4444444444444444,
              "#bd3786"
             ],
             [
              0.5555555555555556,
              "#d8576b"
             ],
             [
              0.6666666666666666,
              "#ed7953"
             ],
             [
              0.7777777777777778,
              "#fb9f3a"
             ],
             [
              0.8888888888888888,
              "#fdca26"
             ],
             [
              1,
              "#f0f921"
             ]
            ],
            "type": "heatmap"
           }
          ],
          "heatmapgl": [
           {
            "colorbar": {
             "outlinewidth": 0,
             "ticks": ""
            },
            "colorscale": [
             [
              0,
              "#0d0887"
             ],
             [
              0.1111111111111111,
              "#46039f"
             ],
             [
              0.2222222222222222,
              "#7201a8"
             ],
             [
              0.3333333333333333,
              "#9c179e"
             ],
             [
              0.4444444444444444,
              "#bd3786"
             ],
             [
              0.5555555555555556,
              "#d8576b"
             ],
             [
              0.6666666666666666,
              "#ed7953"
             ],
             [
              0.7777777777777778,
              "#fb9f3a"
             ],
             [
              0.8888888888888888,
              "#fdca26"
             ],
             [
              1,
              "#f0f921"
             ]
            ],
            "type": "heatmapgl"
           }
          ],
          "histogram": [
           {
            "marker": {
             "pattern": {
              "fillmode": "overlay",
              "size": 10,
              "solidity": 0.2
             }
            },
            "type": "histogram"
           }
          ],
          "histogram2d": [
           {
            "colorbar": {
             "outlinewidth": 0,
             "ticks": ""
            },
            "colorscale": [
             [
              0,
              "#0d0887"
             ],
             [
              0.1111111111111111,
              "#46039f"
             ],
             [
              0.2222222222222222,
              "#7201a8"
             ],
             [
              0.3333333333333333,
              "#9c179e"
             ],
             [
              0.4444444444444444,
              "#bd3786"
             ],
             [
              0.5555555555555556,
              "#d8576b"
             ],
             [
              0.6666666666666666,
              "#ed7953"
             ],
             [
              0.7777777777777778,
              "#fb9f3a"
             ],
             [
              0.8888888888888888,
              "#fdca26"
             ],
             [
              1,
              "#f0f921"
             ]
            ],
            "type": "histogram2d"
           }
          ],
          "histogram2dcontour": [
           {
            "colorbar": {
             "outlinewidth": 0,
             "ticks": ""
            },
            "colorscale": [
             [
              0,
              "#0d0887"
             ],
             [
              0.1111111111111111,
              "#46039f"
             ],
             [
              0.2222222222222222,
              "#7201a8"
             ],
             [
              0.3333333333333333,
              "#9c179e"
             ],
             [
              0.4444444444444444,
              "#bd3786"
             ],
             [
              0.5555555555555556,
              "#d8576b"
             ],
             [
              0.6666666666666666,
              "#ed7953"
             ],
             [
              0.7777777777777778,
              "#fb9f3a"
             ],
             [
              0.8888888888888888,
              "#fdca26"
             ],
             [
              1,
              "#f0f921"
             ]
            ],
            "type": "histogram2dcontour"
           }
          ],
          "mesh3d": [
           {
            "colorbar": {
             "outlinewidth": 0,
             "ticks": ""
            },
            "type": "mesh3d"
           }
          ],
          "parcoords": [
           {
            "line": {
             "colorbar": {
              "outlinewidth": 0,
              "ticks": ""
             }
            },
            "type": "parcoords"
           }
          ],
          "pie": [
           {
            "automargin": true,
            "type": "pie"
           }
          ],
          "scatter": [
           {
            "fillpattern": {
             "fillmode": "overlay",
             "size": 10,
             "solidity": 0.2
            },
            "type": "scatter"
           }
          ],
          "scatter3d": [
           {
            "line": {
             "colorbar": {
              "outlinewidth": 0,
              "ticks": ""
             }
            },
            "marker": {
             "colorbar": {
              "outlinewidth": 0,
              "ticks": ""
             }
            },
            "type": "scatter3d"
           }
          ],
          "scattercarpet": [
           {
            "marker": {
             "colorbar": {
              "outlinewidth": 0,
              "ticks": ""
             }
            },
            "type": "scattercarpet"
           }
          ],
          "scattergeo": [
           {
            "marker": {
             "colorbar": {
              "outlinewidth": 0,
              "ticks": ""
             }
            },
            "type": "scattergeo"
           }
          ],
          "scattergl": [
           {
            "marker": {
             "colorbar": {
              "outlinewidth": 0,
              "ticks": ""
             }
            },
            "type": "scattergl"
           }
          ],
          "scattermapbox": [
           {
            "marker": {
             "colorbar": {
              "outlinewidth": 0,
              "ticks": ""
             }
            },
            "type": "scattermapbox"
           }
          ],
          "scatterpolar": [
           {
            "marker": {
             "colorbar": {
              "outlinewidth": 0,
              "ticks": ""
             }
            },
            "type": "scatterpolar"
           }
          ],
          "scatterpolargl": [
           {
            "marker": {
             "colorbar": {
              "outlinewidth": 0,
              "ticks": ""
             }
            },
            "type": "scatterpolargl"
           }
          ],
          "scatterternary": [
           {
            "marker": {
             "colorbar": {
              "outlinewidth": 0,
              "ticks": ""
             }
            },
            "type": "scatterternary"
           }
          ],
          "surface": [
           {
            "colorbar": {
             "outlinewidth": 0,
             "ticks": ""
            },
            "colorscale": [
             [
              0,
              "#0d0887"
             ],
             [
              0.1111111111111111,
              "#46039f"
             ],
             [
              0.2222222222222222,
              "#7201a8"
             ],
             [
              0.3333333333333333,
              "#9c179e"
             ],
             [
              0.4444444444444444,
              "#bd3786"
             ],
             [
              0.5555555555555556,
              "#d8576b"
             ],
             [
              0.6666666666666666,
              "#ed7953"
             ],
             [
              0.7777777777777778,
              "#fb9f3a"
             ],
             [
              0.8888888888888888,
              "#fdca26"
             ],
             [
              1,
              "#f0f921"
             ]
            ],
            "type": "surface"
           }
          ],
          "table": [
           {
            "cells": {
             "fill": {
              "color": "#EBF0F8"
             },
             "line": {
              "color": "white"
             }
            },
            "header": {
             "fill": {
              "color": "#C8D4E3"
             },
             "line": {
              "color": "white"
             }
            },
            "type": "table"
           }
          ]
         },
         "layout": {
          "annotationdefaults": {
           "arrowcolor": "#2a3f5f",
           "arrowhead": 0,
           "arrowwidth": 1
          },
          "autotypenumbers": "strict",
          "coloraxis": {
           "colorbar": {
            "outlinewidth": 0,
            "ticks": ""
           }
          },
          "colorscale": {
           "diverging": [
            [
             0,
             "#8e0152"
            ],
            [
             0.1,
             "#c51b7d"
            ],
            [
             0.2,
             "#de77ae"
            ],
            [
             0.3,
             "#f1b6da"
            ],
            [
             0.4,
             "#fde0ef"
            ],
            [
             0.5,
             "#f7f7f7"
            ],
            [
             0.6,
             "#e6f5d0"
            ],
            [
             0.7,
             "#b8e186"
            ],
            [
             0.8,
             "#7fbc41"
            ],
            [
             0.9,
             "#4d9221"
            ],
            [
             1,
             "#276419"
            ]
           ],
           "sequential": [
            [
             0,
             "#0d0887"
            ],
            [
             0.1111111111111111,
             "#46039f"
            ],
            [
             0.2222222222222222,
             "#7201a8"
            ],
            [
             0.3333333333333333,
             "#9c179e"
            ],
            [
             0.4444444444444444,
             "#bd3786"
            ],
            [
             0.5555555555555556,
             "#d8576b"
            ],
            [
             0.6666666666666666,
             "#ed7953"
            ],
            [
             0.7777777777777778,
             "#fb9f3a"
            ],
            [
             0.8888888888888888,
             "#fdca26"
            ],
            [
             1,
             "#f0f921"
            ]
           ],
           "sequentialminus": [
            [
             0,
             "#0d0887"
            ],
            [
             0.1111111111111111,
             "#46039f"
            ],
            [
             0.2222222222222222,
             "#7201a8"
            ],
            [
             0.3333333333333333,
             "#9c179e"
            ],
            [
             0.4444444444444444,
             "#bd3786"
            ],
            [
             0.5555555555555556,
             "#d8576b"
            ],
            [
             0.6666666666666666,
             "#ed7953"
            ],
            [
             0.7777777777777778,
             "#fb9f3a"
            ],
            [
             0.8888888888888888,
             "#fdca26"
            ],
            [
             1,
             "#f0f921"
            ]
           ]
          },
          "colorway": [
           "#636efa",
           "#EF553B",
           "#00cc96",
           "#ab63fa",
           "#FFA15A",
           "#19d3f3",
           "#FF6692",
           "#B6E880",
           "#FF97FF",
           "#FECB52"
          ],
          "font": {
           "color": "#2a3f5f"
          },
          "geo": {
           "bgcolor": "white",
           "lakecolor": "white",
           "landcolor": "#E5ECF6",
           "showlakes": true,
           "showland": true,
           "subunitcolor": "white"
          },
          "hoverlabel": {
           "align": "left"
          },
          "hovermode": "closest",
          "mapbox": {
           "style": "light"
          },
          "paper_bgcolor": "white",
          "plot_bgcolor": "#E5ECF6",
          "polar": {
           "angularaxis": {
            "gridcolor": "white",
            "linecolor": "white",
            "ticks": ""
           },
           "bgcolor": "#E5ECF6",
           "radialaxis": {
            "gridcolor": "white",
            "linecolor": "white",
            "ticks": ""
           }
          },
          "scene": {
           "xaxis": {
            "backgroundcolor": "#E5ECF6",
            "gridcolor": "white",
            "gridwidth": 2,
            "linecolor": "white",
            "showbackground": true,
            "ticks": "",
            "zerolinecolor": "white"
           },
           "yaxis": {
            "backgroundcolor": "#E5ECF6",
            "gridcolor": "white",
            "gridwidth": 2,
            "linecolor": "white",
            "showbackground": true,
            "ticks": "",
            "zerolinecolor": "white"
           },
           "zaxis": {
            "backgroundcolor": "#E5ECF6",
            "gridcolor": "white",
            "gridwidth": 2,
            "linecolor": "white",
            "showbackground": true,
            "ticks": "",
            "zerolinecolor": "white"
           }
          },
          "shapedefaults": {
           "line": {
            "color": "#2a3f5f"
           }
          },
          "ternary": {
           "aaxis": {
            "gridcolor": "white",
            "linecolor": "white",
            "ticks": ""
           },
           "baxis": {
            "gridcolor": "white",
            "linecolor": "white",
            "ticks": ""
           },
           "bgcolor": "#E5ECF6",
           "caxis": {
            "gridcolor": "white",
            "linecolor": "white",
            "ticks": ""
           }
          },
          "title": {
           "x": 0.05
          },
          "xaxis": {
           "automargin": true,
           "gridcolor": "white",
           "linecolor": "white",
           "ticks": "",
           "title": {
            "standoff": 15
           },
           "zerolinecolor": "white",
           "zerolinewidth": 2
          },
          "yaxis": {
           "automargin": true,
           "gridcolor": "white",
           "linecolor": "white",
           "ticks": "",
           "title": {
            "standoff": 15
           },
           "zerolinecolor": "white",
           "zerolinewidth": 2
          }
         }
        }
       }
      }
     },
     "metadata": {},
     "output_type": "display_data"
    }
   ],
   "source": [
    "import plotly.graph_objects as go\n",
    "\n",
    "cols = ['Murder and Manslaughter','Rape','Robbery','Aggravated Assault','Burglary','Larceny-theft']\n",
    "fig = go.Figure()\n",
    "races = ['White','Black','American or Alaskan Native','Asian','Hawaiian or North Pacific Ilander']\n",
    "arrests_by_crime_ethnicity[cols] = (arrests_by_crime_ethnicity[cols] - arrests_by_crime_ethnicity[cols].min()) / (arrests_by_crime_ethnicity[cols].max() - arrests_by_crime_ethnicity[cols].min())\n",
    "for i in range(len(races)):\n",
    "    df_temp = arrests_by_crime_ethnicity[arrests_by_crime_ethnicity['Type of crime']==races[i]]\n",
    "    df_temp = df_temp[cols]\n",
    "    print(df_temp.values.reshape(1,-1)[0])\n",
    "    fig.add_trace(go.Scatterpolar(\n",
    "        r= df_temp.values.reshape(1,-1)[0],\n",
    "        theta= cols,\n",
    "        fill='toself',\n",
    "        name=races[i]\n",
    "    ))\n",
    "fig.update_layout(\n",
    "polar=dict(\n",
    "    radialaxis=dict(\n",
    "        visible=True,\n",
    "        range=[0, 1]\n",
    "    )),\n",
    "showlegend=True\n",
    ")\n",
    "\n",
    "fig.show()"
   ]
  },
  {
   "cell_type": "code",
   "execution_count": 54,
   "metadata": {},
   "outputs": [
    {
     "name": "stdout",
     "output_type": "stream",
     "text": [
      "Index(['Unnamed: 0', 'White', 'Black', 'Other', 'Hispanic', 'Non Hispanic',\n",
      "       'Unkonwn'],\n",
      "      dtype='object')\n"
     ]
    }
   ],
   "source": [
    "\n",
    "heatmap_offenders_victims_by_race = pd.read_csv('data-dir/heatmap_offenders_victims_by_race.csv')\n",
    "heatmap_offenders_victims_by_sex = pd.read_csv('data/heatmap_offenders_victims_by_sex.csv')\n",
    "heatmap_offenders_victims_by_race = heatmap_offenders_victims_by_race.drop(columns=['Total'])\n",
    "heatmap_offenders_victims_by_sex = heatmap_offenders_victims_by_sex.drop(columns=['Total'])\n",
    "grouped = heatmap_offenders_victims_by_race.groupby('Race of victim').sum()\n",
    "# drop column Unnamed: 0 from grouped\n",
    "grouped = grouped.drop(columns=['Unnamed: 0'])"
   ]
  },
  {
   "cell_type": "code",
   "execution_count": null,
   "metadata": {},
   "outputs": [],
   "source": []
  }
 ],
 "metadata": {
  "kernelspec": {
   "display_name": "venv",
   "language": "python",
   "name": "python3"
  },
  "language_info": {
   "codemirror_mode": {
    "name": "ipython",
    "version": 3
   },
   "file_extension": ".py",
   "mimetype": "text/x-python",
   "name": "python",
   "nbconvert_exporter": "python",
   "pygments_lexer": "ipython3",
   "version": "3.8.8"
  }
 },
 "nbformat": 4,
 "nbformat_minor": 2
}
